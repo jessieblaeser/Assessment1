{
 "cells": [
  {
   "cell_type": "markdown",
   "id": "5371f04c",
   "metadata": {},
   "source": [
    "# Lumber Prices\n",
    "\n",
    "* **Data:** `lumber-prices.csv`\n",
    "* **Description:** Chicago lumber futures per 1000 board feet, in USD. To keep things simple, we're going to say that this is the measurement over a month instead of just one date per month. Basically: each month, how much you'd pay if you bought 125 2x4 boards at the hardware store.\n",
    "* **Source:** https://tradingeconomics.com/commodity/lumber\n",
    "* **Columns of interest:**\n",
    "    * `Open` is the price at the start of the month\n",
    "    * `High` is the high price over the course of the month\n",
    "    * `Low` is the low number over the course of the month\n",
    "    * `Close` is the number at the end of the month"
   ]
  },
  {
   "cell_type": "markdown",
   "id": "ffcf050f",
   "metadata": {},
   "source": [
    "## Read in your data"
   ]
  },
  {
   "cell_type": "code",
   "execution_count": 29,
   "id": "505f1e94",
   "metadata": {},
   "outputs": [
    {
     "data": {
      "text/html": [
       "<div>\n",
       "<style scoped>\n",
       "    .dataframe tbody tr th:only-of-type {\n",
       "        vertical-align: middle;\n",
       "    }\n",
       "\n",
       "    .dataframe tbody tr th {\n",
       "        vertical-align: top;\n",
       "    }\n",
       "\n",
       "    .dataframe thead th {\n",
       "        text-align: right;\n",
       "    }\n",
       "</style>\n",
       "<table border=\"1\" class=\"dataframe\">\n",
       "  <thead>\n",
       "    <tr style=\"text-align: right;\">\n",
       "      <th></th>\n",
       "      <th>open</th>\n",
       "      <th>high</th>\n",
       "      <th>low</th>\n",
       "      <th>close</th>\n",
       "      <th>date</th>\n",
       "    </tr>\n",
       "  </thead>\n",
       "  <tbody>\n",
       "    <tr>\n",
       "      <th>0</th>\n",
       "      <td>$407.00</td>\n",
       "      <td>$424.70</td>\n",
       "      <td>$377.00</td>\n",
       "      <td>$424.70</td>\n",
       "      <td>1996-12-09T00:00:00</td>\n",
       "    </tr>\n",
       "    <tr>\n",
       "      <th>1</th>\n",
       "      <td>$426.00</td>\n",
       "      <td>$450.50</td>\n",
       "      <td>$395.00</td>\n",
       "      <td>$411.40</td>\n",
       "      <td>1997-01-02T00:00:00</td>\n",
       "    </tr>\n",
       "    <tr>\n",
       "      <th>2</th>\n",
       "      <td>$408.50</td>\n",
       "      <td>$421.50</td>\n",
       "      <td>$382.10</td>\n",
       "      <td>$383.50</td>\n",
       "      <td>1997-02-03T00:00:00</td>\n",
       "    </tr>\n",
       "    <tr>\n",
       "      <th>3</th>\n",
       "      <td>$386.00</td>\n",
       "      <td>$389.70</td>\n",
       "      <td>$355.00</td>\n",
       "      <td>$380.50</td>\n",
       "      <td>1997-03-03T00:00:00</td>\n",
       "    </tr>\n",
       "    <tr>\n",
       "      <th>4</th>\n",
       "      <td>$378.00</td>\n",
       "      <td>$417.50</td>\n",
       "      <td>$376.50</td>\n",
       "      <td>$403.10</td>\n",
       "      <td>1997-04-01T00:00:00</td>\n",
       "    </tr>\n",
       "  </tbody>\n",
       "</table>\n",
       "</div>"
      ],
      "text/plain": [
       "      open     high      low    close                 date\n",
       "0  $407.00  $424.70  $377.00  $424.70  1996-12-09T00:00:00\n",
       "1  $426.00  $450.50  $395.00  $411.40  1997-01-02T00:00:00\n",
       "2  $408.50  $421.50  $382.10  $383.50  1997-02-03T00:00:00\n",
       "3  $386.00  $389.70  $355.00  $380.50  1997-03-03T00:00:00\n",
       "4  $378.00  $417.50  $376.50  $403.10  1997-04-01T00:00:00"
      ]
     },
     "execution_count": 29,
     "metadata": {},
     "output_type": "execute_result"
    }
   ],
   "source": [
    "import pandas as pd\n",
    "import numpy as np\n",
    "pd.read_csv(\"lumber-prices.csv\")\n",
    "df = pd.read_csv(\"lumber-prices.csv\")\n",
    "df.head()"
   ]
  },
  {
   "cell_type": "markdown",
   "id": "2cd14f08",
   "metadata": {},
   "source": [
    "## What is the most recent month in this dataset?\n",
    "\n",
    "We only have one reading per month, so you could also read this as \"what is the earliest date in the dataset\""
   ]
  },
  {
   "cell_type": "code",
   "execution_count": 30,
   "id": "80d23da2",
   "metadata": {},
   "outputs": [
    {
     "data": {
      "text/plain": [
       "0     1996-12-09\n",
       "1     1997-01-02\n",
       "2     1997-02-03\n",
       "3     1997-03-03\n",
       "4     1997-04-01\n",
       "         ...    \n",
       "295   2021-07-01\n",
       "296   2021-08-02\n",
       "297   2021-09-01\n",
       "298   2021-10-01\n",
       "299   2021-11-01\n",
       "Name: date, Length: 300, dtype: datetime64[ns]"
      ]
     },
     "execution_count": 30,
     "metadata": {},
     "output_type": "execute_result"
    }
   ],
   "source": [
    "df.date\n",
    "pd.to_datetime(df.date, errors=\"coerce\", format='%Y-%m-%d')\n",
    "df.date = pd.to_datetime(df.date, errors=\"coerce\", format='%Y-%m-%d')\n",
    "df.date\n"
   ]
  },
  {
   "cell_type": "code",
   "execution_count": 31,
   "id": "2724376b",
   "metadata": {},
   "outputs": [
    {
     "data": {
      "text/plain": [
       "2021-11-01    1\n",
       "Name: date, dtype: int64"
      ]
     },
     "execution_count": 31,
     "metadata": {},
     "output_type": "execute_result"
    }
   ],
   "source": [
    "df.date.value_counts().sort_index().tail(1)"
   ]
  },
  {
   "cell_type": "markdown",
   "id": "ecf489fb",
   "metadata": {},
   "source": [
    "## What 3 months had the lowest low lumber price?"
   ]
  },
  {
   "cell_type": "code",
   "execution_count": 32,
   "id": "6fc40fef",
   "metadata": {},
   "outputs": [
    {
     "data": {
      "text/plain": [
       "date\n",
       "2021-06-01    $705.00\n",
       "2021-03-01    $826.30\n",
       "2021-02-01    $842.90\n",
       "Name: low, dtype: object"
      ]
     },
     "execution_count": 32,
     "metadata": {},
     "output_type": "execute_result"
    }
   ],
   "source": [
    "df.head()\n",
    "df.low.sort_values()\n",
    "df.groupby(by='date').low.min().sort_values().tail(3)"
   ]
  },
  {
   "cell_type": "markdown",
   "id": "843b2f36",
   "metadata": {},
   "source": [
    "## What is the median \"high\" lumber price in our dataset?"
   ]
  },
  {
   "cell_type": "code",
   "execution_count": 39,
   "id": "d7d69d6b",
   "metadata": {},
   "outputs": [
    {
     "data": {
      "text/plain": [
       "329.65"
      ]
     },
     "execution_count": 39,
     "metadata": {},
     "output_type": "execute_result"
    }
   ],
   "source": [
    "df.high\n",
    "# df['high'] = df['high'].str.replace('$',\"\")\n",
    "# df.high\n",
    "\n",
    "df['high'] = df['high'].astype(float)\n",
    "df.high\n",
    "\n",
    "df.high.median()"
   ]
  },
  {
   "cell_type": "markdown",
   "id": "b2e6b0ea",
   "metadata": {},
   "source": [
    "## Plot the maximum \"high\" lumber price on an annual basis."
   ]
  },
  {
   "cell_type": "code",
   "execution_count": 42,
   "id": "78759a14",
   "metadata": {},
   "outputs": [
    {
     "data": {
      "text/plain": [
       "<AxesSubplot:xlabel='date'>"
      ]
     },
     "execution_count": 42,
     "metadata": {},
     "output_type": "execute_result"
    },
    {
     "data": {
      "image/png": "[encoded data removed]",
      "text/plain": [
       "<Figure size 432x288 with 1 Axes>"
      ]
     },
     "metadata": {
      "needs_background": "light"
     },
     "output_type": "display_data"
    }
   ],
   "source": [
    "df.groupby(by='date').high.max().plot()"
   ]
  },
  {
   "cell_type": "markdown",
   "id": "a507d8a6",
   "metadata": {},
   "source": [
    "## What month in our dataset had the largest swing between high and low?\n",
    "\n",
    "You'll want to create a new column for this one"
   ]
  },
  {
   "cell_type": "code",
   "execution_count": 45,
   "id": "4178d51c",
   "metadata": {},
   "outputs": [
    {
     "data": {
      "text/plain": [
       "0      424.7\n",
       "1      450.5\n",
       "2      421.5\n",
       "3      389.7\n",
       "4      417.5\n",
       "       ...  \n",
       "295    825.6\n",
       "296    650.0\n",
       "297    659.7\n",
       "298    789.6\n",
       "299    831.8\n",
       "Name: high, Length: 300, dtype: float64"
      ]
     },
     "execution_count": 45,
     "metadata": {},
     "output_type": "execute_result"
    }
   ],
   "source": [
    "df.low\n",
    "# df['low'] = df['low'].str.replace('$',\"\")\n",
    "# df.low\n",
    "\n",
    "df['low'] = df['low'].astype(float)\n",
    "df.high"
   ]
  },
  {
   "cell_type": "code",
   "execution_count": 50,
   "id": "42d3445c",
   "metadata": {},
   "outputs": [
    {
     "data": {
      "text/html": [
       "<div>\n",
       "<style scoped>\n",
       "    .dataframe tbody tr th:only-of-type {\n",
       "        vertical-align: middle;\n",
       "    }\n",
       "\n",
       "    .dataframe tbody tr th {\n",
       "        vertical-align: top;\n",
       "    }\n",
       "\n",
       "    .dataframe thead th {\n",
       "        text-align: right;\n",
       "    }\n",
       "</style>\n",
       "<table border=\"1\" class=\"dataframe\">\n",
       "  <thead>\n",
       "    <tr style=\"text-align: right;\">\n",
       "      <th></th>\n",
       "      <th>open</th>\n",
       "      <th>high</th>\n",
       "      <th>low</th>\n",
       "      <th>close</th>\n",
       "      <th>date</th>\n",
       "      <th>difference</th>\n",
       "    </tr>\n",
       "  </thead>\n",
       "  <tbody>\n",
       "    <tr>\n",
       "      <th>0</th>\n",
       "      <td>$407.00</td>\n",
       "      <td>424.7</td>\n",
       "      <td>377.0</td>\n",
       "      <td>$424.70</td>\n",
       "      <td>1996-12-09</td>\n",
       "      <td>47.7</td>\n",
       "    </tr>\n",
       "    <tr>\n",
       "      <th>1</th>\n",
       "      <td>$426.00</td>\n",
       "      <td>450.5</td>\n",
       "      <td>395.0</td>\n",
       "      <td>$411.40</td>\n",
       "      <td>1997-01-02</td>\n",
       "      <td>55.5</td>\n",
       "    </tr>\n",
       "    <tr>\n",
       "      <th>2</th>\n",
       "      <td>$408.50</td>\n",
       "      <td>421.5</td>\n",
       "      <td>382.1</td>\n",
       "      <td>$383.50</td>\n",
       "      <td>1997-02-03</td>\n",
       "      <td>39.4</td>\n",
       "    </tr>\n",
       "    <tr>\n",
       "      <th>3</th>\n",
       "      <td>$386.00</td>\n",
       "      <td>389.7</td>\n",
       "      <td>355.0</td>\n",
       "      <td>$380.50</td>\n",
       "      <td>1997-03-03</td>\n",
       "      <td>34.7</td>\n",
       "    </tr>\n",
       "    <tr>\n",
       "      <th>4</th>\n",
       "      <td>$378.00</td>\n",
       "      <td>417.5</td>\n",
       "      <td>376.5</td>\n",
       "      <td>$403.10</td>\n",
       "      <td>1997-04-01</td>\n",
       "      <td>41.0</td>\n",
       "    </tr>\n",
       "  </tbody>\n",
       "</table>\n",
       "</div>"
      ],
      "text/plain": [
       "      open   high    low    close       date  difference\n",
       "0  $407.00  424.7  377.0  $424.70 1996-12-09        47.7\n",
       "1  $426.00  450.5  395.0  $411.40 1997-01-02        55.5\n",
       "2  $408.50  421.5  382.1  $383.50 1997-02-03        39.4\n",
       "3  $386.00  389.7  355.0  $380.50 1997-03-03        34.7\n",
       "4  $378.00  417.5  376.5  $403.10 1997-04-01        41.0"
      ]
     },
     "execution_count": 50,
     "metadata": {},
     "output_type": "execute_result"
    }
   ],
   "source": [
    "df['difference'] = df.high - df.low\n",
    "df.difference\n",
    "df.head()"
   ]
  },
  {
   "cell_type": "code",
   "execution_count": 55,
   "id": "76621119",
   "metadata": {},
   "outputs": [
    {
     "data": {
      "text/plain": [
       "date\n",
       "2021-06-01    675.0\n",
       "Name: difference, dtype: float64"
      ]
     },
     "execution_count": 55,
     "metadata": {},
     "output_type": "execute_result"
    }
   ],
   "source": [
    "#df.groupby(by='date').low.min().sort_values().tail(3)\n",
    "\n",
    "df.groupby(by='date').difference.max().sort_values().tail(1)"
   ]
  },
  {
   "cell_type": "markdown",
   "id": "28594336",
   "metadata": {},
   "source": [
    "## How many months did lumber prices drop in?\n",
    "\n",
    "If the price was lower at the end of the month than the beginning of the month, we'll say the price dropped."
   ]
  },
  {
   "cell_type": "code",
   "execution_count": 57,
   "id": "d94f1cfc",
   "metadata": {},
   "outputs": [
    {
     "data": {
      "text/html": [
       "<div>\n",
       "<style scoped>\n",
       "    .dataframe tbody tr th:only-of-type {\n",
       "        vertical-align: middle;\n",
       "    }\n",
       "\n",
       "    .dataframe tbody tr th {\n",
       "        vertical-align: top;\n",
       "    }\n",
       "\n",
       "    .dataframe thead th {\n",
       "        text-align: right;\n",
       "    }\n",
       "</style>\n",
       "<table border=\"1\" class=\"dataframe\">\n",
       "  <thead>\n",
       "    <tr style=\"text-align: right;\">\n",
       "      <th></th>\n",
       "      <th>open</th>\n",
       "      <th>high</th>\n",
       "      <th>low</th>\n",
       "      <th>close</th>\n",
       "      <th>date</th>\n",
       "      <th>difference</th>\n",
       "    </tr>\n",
       "  </thead>\n",
       "  <tbody>\n",
       "    <tr>\n",
       "      <th>0</th>\n",
       "      <td>$407.00</td>\n",
       "      <td>424.7</td>\n",
       "      <td>377.0</td>\n",
       "      <td>$424.70</td>\n",
       "      <td>1996-12-09</td>\n",
       "      <td>47.7</td>\n",
       "    </tr>\n",
       "    <tr>\n",
       "      <th>1</th>\n",
       "      <td>$426.00</td>\n",
       "      <td>450.5</td>\n",
       "      <td>395.0</td>\n",
       "      <td>$411.40</td>\n",
       "      <td>1997-01-02</td>\n",
       "      <td>55.5</td>\n",
       "    </tr>\n",
       "    <tr>\n",
       "      <th>2</th>\n",
       "      <td>$408.50</td>\n",
       "      <td>421.5</td>\n",
       "      <td>382.1</td>\n",
       "      <td>$383.50</td>\n",
       "      <td>1997-02-03</td>\n",
       "      <td>39.4</td>\n",
       "    </tr>\n",
       "    <tr>\n",
       "      <th>3</th>\n",
       "      <td>$386.00</td>\n",
       "      <td>389.7</td>\n",
       "      <td>355.0</td>\n",
       "      <td>$380.50</td>\n",
       "      <td>1997-03-03</td>\n",
       "      <td>34.7</td>\n",
       "    </tr>\n",
       "    <tr>\n",
       "      <th>4</th>\n",
       "      <td>$378.00</td>\n",
       "      <td>417.5</td>\n",
       "      <td>376.5</td>\n",
       "      <td>$403.10</td>\n",
       "      <td>1997-04-01</td>\n",
       "      <td>41.0</td>\n",
       "    </tr>\n",
       "  </tbody>\n",
       "</table>\n",
       "</div>"
      ],
      "text/plain": [
       "      open   high    low    close       date  difference\n",
       "0  $407.00  424.7  377.0  $424.70 1996-12-09        47.7\n",
       "1  $426.00  450.5  395.0  $411.40 1997-01-02        55.5\n",
       "2  $408.50  421.5  382.1  $383.50 1997-02-03        39.4\n",
       "3  $386.00  389.7  355.0  $380.50 1997-03-03        34.7\n",
       "4  $378.00  417.5  376.5  $403.10 1997-04-01        41.0"
      ]
     },
     "execution_count": 57,
     "metadata": {},
     "output_type": "execute_result"
    }
   ],
   "source": [
    "#df.date.dt.month.value_counts().sort_index()\n",
    "df.head()\n",
    "#coming back to this "
   ]
  },
  {
   "cell_type": "markdown",
   "id": "3b98b6d5",
   "metadata": {},
   "source": [
    "## In 2000, how many months saw lumber prices rise vs lumber prices fall?"
   ]
  },
  {
   "cell_type": "code",
   "execution_count": 65,
   "id": "3ea7f533",
   "metadata": {},
   "outputs": [
    {
     "data": {
      "text/plain": [
       "171.8     1\n",
       "175.9     1\n",
       "179.8     1\n",
       "187.0     1\n",
       "189.1     1\n",
       "         ..\n",
       "1030.4    1\n",
       "1045.0    1\n",
       "1380.0    1\n",
       "1502.3    1\n",
       "1711.2    1\n",
       "Name: high, Length: 277, dtype: int64"
      ]
     },
     "execution_count": 65,
     "metadata": {},
     "output_type": "execute_result"
    }
   ],
   "source": [
    "df.high.value_counts().sort_index()"
   ]
  },
  {
   "cell_type": "code",
   "execution_count": 66,
   "id": "534265d7",
   "metadata": {},
   "outputs": [
    {
     "data": {
      "text/plain": [
       "date\n",
       "1996-12-31     1\n",
       "1997-12-31    12\n",
       "1998-12-31    12\n",
       "1999-12-31    12\n",
       "2000-12-31    12\n",
       "2001-12-31    12\n",
       "2002-12-31    12\n",
       "2003-12-31    12\n",
       "2004-12-31    12\n",
       "2005-12-31    12\n",
       "2006-12-31    12\n",
       "2007-12-31    12\n",
       "2008-12-31    12\n",
       "2009-12-31    12\n",
       "2010-12-31    12\n",
       "2011-12-31    12\n",
       "2012-12-31    12\n",
       "2013-12-31    12\n",
       "2014-12-31    12\n",
       "2015-12-31    12\n",
       "2016-12-31    12\n",
       "2017-12-31    12\n",
       "2018-12-31    12\n",
       "2019-12-31    12\n",
       "2020-12-31    12\n",
       "2021-12-31    11\n",
       "Freq: A-DEC, dtype: int64"
      ]
     },
     "execution_count": 66,
     "metadata": {},
     "output_type": "execute_result"
    }
   ],
   "source": [
    "df.date.dt.year.value_counts()\n",
    "df.resample('Y', on='date').size()\n",
    "#coming back to this\n"
   ]
  },
  {
   "cell_type": "code",
   "execution_count": null,
   "id": "ff514b44",
   "metadata": {},
   "outputs": [],
   "source": []
  }
 ],
 "metadata": {
  "kernelspec": {
   "display_name": "Python 3 (ipykernel)",
   "language": "python",
   "name": "python3"
  },
  "language_info": {
   "codemirror_mode": {
    "name": "ipython",
    "version": 3
   },
   "file_extension": ".py",
   "mimetype": "text/x-python",
   "name": "python",
   "nbconvert_exporter": "python",
   "pygments_lexer": "ipython3",
   "version": "3.10.0"
  }
 },
 "nbformat": 4,
 "nbformat_minor": 5
}
