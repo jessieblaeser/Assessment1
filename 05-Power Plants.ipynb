{
 "cells": [
  {
   "cell_type": "markdown",
   "id": "8d532d66",
   "metadata": {},
   "source": [
    "# Power Plants\n",
    "\n",
    "* **Data:** `powerplants.csv`\n",
    "* **Columns of interest:**\n",
    "    * `Plant_Name` is the name of the power plant\n",
    "    * `Utility_Na` is the name of the owner of the power plant\n",
    "    * `City`, `County`, `StateName`, `Zip`\n",
    "    * `PrimSource` is what kind of energy source it uses (nuclear, coal, etc)\n",
    "    * `Total_MW` is the total amount of energy produces"
   ]
  },
  {
   "cell_type": "markdown",
   "id": "2a954687",
   "metadata": {},
   "source": [
    "## Read in the data"
   ]
  },
  {
   "cell_type": "code",
   "execution_count": 11,
   "id": "d32c3000",
   "metadata": {},
   "outputs": [],
   "source": [
    "import pandas as pd\n",
    "import numpy as np\n",
    "\n",
    "df = pd.read_csv(\"powerplants.csv\")\n",
    "#df.head()\n",
    "pd.set_option(\"display.max_columns\", None)\n",
    "pd.set_option(\"display.float_format\", '{:,.2f}'.format)"
   ]
  },
  {
   "cell_type": "code",
   "execution_count": 12,
   "id": "f7ab9774",
   "metadata": {},
   "outputs": [
    {
     "data": {
      "text/plain": [
       "Index(['plant_code', 'plant_name', 'utility_na', 'utility_id', 'sector_nam',\n",
       "       'city', 'county', 'statename', 'zip', 'street_add', 'primsource',\n",
       "       'install_mw', 'total_mw', 'coal_mw', 'ng_mw', 'crude_mw', 'bio_mw',\n",
       "       'hydro_mw', 'hydrops_mw', 'nuclear_mw', 'solar_mw', 'wind_mw', 'geo_mw',\n",
       "       'other_mw', 'source_des', 'tech_desc', 'source', 'period', 'latitude',\n",
       "       'longitude'],\n",
       "      dtype='object')"
      ]
     },
     "execution_count": 12,
     "metadata": {},
     "output_type": "execute_result"
    }
   ],
   "source": [
    "df.columns = df.columns.str.lower()\n",
    "df.columns"
   ]
  },
  {
   "cell_type": "markdown",
   "id": "07743f11",
   "metadata": {},
   "source": [
    "## What are the different types of energy sources in this dataset?"
   ]
  },
  {
   "cell_type": "code",
   "execution_count": 15,
   "id": "141d5afd",
   "metadata": {},
   "outputs": [
    {
     "data": {
      "text/plain": [
       "solar             2255\n",
       "natural gas       1701\n",
       "hydroelectric     1410\n",
       "wind              1043\n",
       "petroleum          842\n",
       "biomass            726\n",
       "coal               337\n",
       "other              140\n",
       "geothermal          66\n",
       "nuclear             61\n",
       "pumped storage      35\n",
       "Name: primsource, dtype: int64"
      ]
     },
     "execution_count": 15,
     "metadata": {},
     "output_type": "execute_result"
    }
   ],
   "source": [
    "df.primsource.value_counts()"
   ]
  },
  {
   "cell_type": "markdown",
   "id": "b8f99b09",
   "metadata": {},
   "source": [
    "## What is the most common type of power plant in the United States?"
   ]
  },
  {
   "cell_type": "code",
   "execution_count": 18,
   "id": "21cc3608",
   "metadata": {},
   "outputs": [
    {
     "data": {
      "text/plain": [
       "solar    2255\n",
       "Name: primsource, dtype: int64"
      ]
     },
     "execution_count": 18,
     "metadata": {},
     "output_type": "execute_result"
    }
   ],
   "source": [
    "df.primsource.value_counts().head(1)"
   ]
  },
  {
   "cell_type": "markdown",
   "id": "30e1410c",
   "metadata": {},
   "source": [
    "## Make a graph of it, with the longest bar on the top."
   ]
  },
  {
   "cell_type": "code",
   "execution_count": 20,
   "id": "282ea8ef",
   "metadata": {},
   "outputs": [
    {
     "data": {
      "text/plain": [
       "<AxesSubplot:>"
      ]
     },
     "execution_count": 20,
     "metadata": {},
     "output_type": "execute_result"
    },
    {
     "data": {
      "image/png": "[encoded data removed]",
      "text/plain": [
       "<Figure size 432x288 with 1 Axes>"
      ]
     },
     "metadata": {
      "needs_background": "light"
     },
     "output_type": "display_data"
    }
   ],
   "source": [
    "df.primsource.value_counts().sort_values().plot(kind='barh')\n"
   ]
  },
  {
   "cell_type": "markdown",
   "id": "cdbcf52f",
   "metadata": {},
   "source": [
    "## What type of power plant produces the most energy in the United States?"
   ]
  },
  {
   "cell_type": "code",
   "execution_count": 28,
   "id": "027eecbe",
   "metadata": {},
   "outputs": [
    {
     "data": {
      "text/plain": [
       "primsource\n",
       "nuclear          1,751.00\n",
       "coal               521.00\n",
       "pumped storage     420.00\n",
       "natural gas         89.30\n",
       "wind                59.40\n",
       "geothermal          19.00\n",
       "other               11.55\n",
       "hydroelectric        6.70\n",
       "biomass              6.70\n",
       "petroleum            6.60\n",
       "solar                3.50\n",
       "Name: total_mw, dtype: float64"
      ]
     },
     "execution_count": 28,
     "metadata": {},
     "output_type": "execute_result"
    }
   ],
   "source": [
    "df.groupby(by='primsource').total_mw.median().sort_values(ascending=False)"
   ]
  },
  {
   "cell_type": "markdown",
   "id": "1a3c1d5e",
   "metadata": {},
   "source": [
    "## Make a graph of it, with the longest bar on the top."
   ]
  },
  {
   "cell_type": "code",
   "execution_count": 32,
   "id": "a09a6d80",
   "metadata": {},
   "outputs": [
    {
     "data": {
      "text/plain": [
       "<AxesSubplot:ylabel='primsource'>"
      ]
     },
     "execution_count": 32,
     "metadata": {},
     "output_type": "execute_result"
    },
    {
     "data": {
      "image/png": "[encoded data removed]",
      "text/plain": [
       "<Figure size 432x288 with 1 Axes>"
      ]
     },
     "metadata": {
      "needs_background": "light"
     },
     "output_type": "display_data"
    }
   ],
   "source": [
    "df.groupby(by='primsource').total_mw.median().sort_values().plot(kind='barh')"
   ]
  },
  {
   "cell_type": "markdown",
   "id": "6205e138",
   "metadata": {},
   "source": [
    "## What US state has the most power plants?"
   ]
  },
  {
   "cell_type": "code",
   "execution_count": 40,
   "id": "50ba22a6",
   "metadata": {},
   "outputs": [
    {
     "data": {
      "text/plain": [
       "statename\n",
       "California        1344\n",
       "North Carolina     626\n",
       "Texas              431\n",
       "New York           407\n",
       "Minnesota          366\n",
       "Name: plant_name, dtype: int64"
      ]
     },
     "execution_count": 40,
     "metadata": {},
     "output_type": "execute_result"
    }
   ],
   "source": [
    "df.groupby(by='statename').plant_name.count().sort_values(ascending=False).head()"
   ]
  },
  {
   "cell_type": "markdown",
   "id": "57d07f78",
   "metadata": {},
   "source": [
    "## What three US states produce the most energy?"
   ]
  },
  {
   "cell_type": "code",
   "execution_count": 42,
   "id": "903b8cec",
   "metadata": {},
   "outputs": [
    {
     "data": {
      "text/plain": [
       "statename\n",
       "Texas         146.00\n",
       "Mississippi   132.00\n",
       "Oklahoma      122.50\n",
       "Kentucky      110.00\n",
       "Alabama        98.50\n",
       "Name: total_mw, dtype: float64"
      ]
     },
     "execution_count": 42,
     "metadata": {},
     "output_type": "execute_result"
    }
   ],
   "source": [
    "df.groupby(by='statename').total_mw.median().sort_values(ascending=False).head()\n"
   ]
  },
  {
   "cell_type": "markdown",
   "id": "a9c597a5",
   "metadata": {},
   "source": [
    "## What state has the most solar power plants?"
   ]
  },
  {
   "cell_type": "code",
   "execution_count": 49,
   "id": "44124416",
   "metadata": {},
   "outputs": [
    {
     "data": {
      "text/plain": [
       "California        503\n",
       "North Carolina    478\n",
       "Massachusetts     230\n",
       "New Jersey        183\n",
       "Minnesota          91\n",
       "Name: statename, dtype: int64"
      ]
     },
     "execution_count": 49,
     "metadata": {},
     "output_type": "execute_result"
    }
   ],
   "source": [
    "#df[df.primsource == 'solar']\n",
    "\n",
    "df.primsource.str.contains('solar', na=False).value_counts()\n",
    "df[df.primsource.str.contains('solar', na=False)].statename.value_counts().head()"
   ]
  },
  {
   "cell_type": "markdown",
   "id": "2b36fa02",
   "metadata": {},
   "source": [
    "## What state produces the most energy using coal?"
   ]
  },
  {
   "cell_type": "code",
   "execution_count": 52,
   "id": "d3082fcc",
   "metadata": {},
   "outputs": [
    {
     "data": {
      "text/plain": [
       "Illinois        21\n",
       "Pennsylvania    21\n",
       "Texas           18\n",
       "Indiana         17\n",
       "Iowa            15\n",
       "Name: statename, dtype: int64"
      ]
     },
     "execution_count": 52,
     "metadata": {},
     "output_type": "execute_result"
    }
   ],
   "source": [
    "df.head()\n",
    "#total_mw\n",
    "#primsource\n",
    "#statename\n",
    "\n",
    "#which state produces the most energy? \n",
    "\n",
    "df.groupby(by='statename').total_mw.median().sort_values(ascending=False)\n",
    "\n",
    "#which of these states use coal plants?\n",
    "df[df.primsource.str.contains('coal', na=False)].statename.value_counts().head()\n",
    "\n",
    "#merged.groupby(by='neighborhood').Primary_Breed.value_counts().groupby(level=0, group_keys=False).nlargest(1)\n"
   ]
  },
  {
   "cell_type": "code",
   "execution_count": 54,
   "id": "95edaa01",
   "metadata": {},
   "outputs": [
    {
     "data": {
      "text/plain": [
       "statename\n",
       "Georgia         1,793.00\n",
       "Washington      1,340.00\n",
       "West Virginia   1,293.50\n",
       "Tennessee       1,283.10\n",
       "Florida         1,250.00\n",
       "Name: total_mw, dtype: float64"
      ]
     },
     "execution_count": 54,
     "metadata": {},
     "output_type": "execute_result"
    }
   ],
   "source": [
    "df[df.primsource.str.contains('coal', na=False)].groupby(by='statename').total_mw.median().sort_values(ascending=False).head()\n",
    "\n",
    "#is this right?? "
   ]
  },
  {
   "cell_type": "markdown",
   "id": "1809e8a1",
   "metadata": {},
   "source": [
    "## List all of the nuclear powerplants in New York."
   ]
  },
  {
   "cell_type": "code",
   "execution_count": 73,
   "id": "75aba10e",
   "metadata": {},
   "outputs": [
    {
     "data": {
      "text/plain": [
       "1155                     Indian Point 2\n",
       "1213    Nine Mile Point Nuclear Station\n",
       "1861                James A Fitzpatrick\n",
       "1868      R E Ginna Nuclear Power Plant\n",
       "2536                     Indian Point 3\n",
       "Name: plant_name, dtype: object"
      ]
     },
     "execution_count": 73,
     "metadata": {},
     "output_type": "execute_result"
    }
   ],
   "source": [
    "ny_df = df[df.statename == 'New York']\n",
    "ny_df[ny_df.primsource == 'nuclear'].plant_name"
   ]
  },
  {
   "cell_type": "markdown",
   "id": "a865c0ce",
   "metadata": {},
   "source": [
    "## What is the most common type of powerplant in Vermont?"
   ]
  },
  {
   "cell_type": "code",
   "execution_count": 74,
   "id": "28016666",
   "metadata": {},
   "outputs": [
    {
     "data": {
      "text/plain": [
       "hydroelectric    46\n",
       "solar            31\n",
       "petroleum         7\n",
       "wind              5\n",
       "biomass           4\n",
       "Name: primsource, dtype: int64"
      ]
     },
     "execution_count": 74,
     "metadata": {},
     "output_type": "execute_result"
    }
   ],
   "source": [
    "df[df.statename == 'Vermont'].primsource.value_counts()\n"
   ]
  },
  {
   "cell_type": "markdown",
   "id": "d59391ef",
   "metadata": {},
   "source": [
    "## What type of power plant produces the most power in Texas?"
   ]
  },
  {
   "cell_type": "code",
   "execution_count": 70,
   "id": "1cfcccda",
   "metadata": {},
   "outputs": [
    {
     "data": {
      "text/plain": [
       "primsource\n",
       "nuclear         2,480.00\n",
       "coal            1,037.00\n",
       "natural gas       359.50\n",
       "wind              150.00\n",
       "other              18.80\n",
       "hydroelectric      10.90\n",
       "solar              10.00\n",
       "biomass             8.20\n",
       "petroleum           7.60\n",
       "Name: total_mw, dtype: float64"
      ]
     },
     "execution_count": 70,
     "metadata": {},
     "output_type": "execute_result"
    }
   ],
   "source": [
    "df[df.statename == 'Texas'].groupby(by='primsource').total_mw.median().sort_values(ascending=False)"
   ]
  },
  {
   "cell_type": "code",
   "execution_count": null,
   "id": "e50cfa04",
   "metadata": {},
   "outputs": [],
   "source": []
  }
 ],
 "metadata": {
  "kernelspec": {
   "display_name": "Python 3 (ipykernel)",
   "language": "python",
   "name": "python3"
  },
  "language_info": {
   "codemirror_mode": {
    "name": "ipython",
    "version": 3
   },
   "file_extension": ".py",
   "mimetype": "text/x-python",
   "name": "python",
   "nbconvert_exporter": "python",
   "pygments_lexer": "ipython3",
   "version": "3.10.0"
  }
 },
 "nbformat": 4,
 "nbformat_minor": 5
}
