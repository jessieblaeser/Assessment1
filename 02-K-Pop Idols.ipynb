{
 "cells": [
  {
   "cell_type": "markdown",
   "id": "410bd493",
   "metadata": {},
   "source": [
    "# K-pop Idols\n",
    "\n",
    "* **Data:** `kpop_idols.csv`\n",
    "* **Description:** K-pop is Korean pop music. It's popular the world over, especially when their fans take over Twitter hashtags. Idols are the individual musicians. Note that this dataset is not necessarily current k-pop idols, but includes people from the past, too (for example: group memberships might not be current).\n",
    "* **Source:** https://www.kaggle.com/kimjihoo/kpopdb\n",
    "* **Columns of interest:**\n",
    "    * These are pretty self-explanatory. Just know \"Birthplace\" is the city they were born in, while \"Country\" is the country."
   ]
  },
  {
   "cell_type": "markdown",
   "id": "341df782",
   "metadata": {},
   "source": [
    "## Read in your data"
   ]
  },
  {
   "cell_type": "code",
   "execution_count": 1,
   "id": "79e73513",
   "metadata": {},
   "outputs": [
    {
     "name": "stderr",
     "output_type": "stream",
     "text": [
      "/Users/jessieblaeser/.pyenv/versions/3.10.0/lib/python3.10/site-packages/pandas/compat/__init__.py:124: UserWarning: Could not import the lzma module. Your installed Python is incomplete. Attempting to use lzma compression will result in a RuntimeError.\n",
      "  warnings.warn(msg)\n"
     ]
    }
   ],
   "source": [
    "import pandas as pd \n",
    "import numpy as np\n",
    "\n",
    "df = pd.read_csv(\"kpop_idols.csv\")\n"
   ]
  },
  {
   "cell_type": "code",
   "execution_count": 8,
   "id": "fc8d1156",
   "metadata": {},
   "outputs": [
    {
     "data": {
      "text/plain": [
       "Index(['stage_name', 'full_name', 'korean_name', 'k._stage_name',\n",
       "       'date_of_birth', 'group', 'country', 'birthplace', 'other_group',\n",
       "       'gender'],\n",
       "      dtype='object')"
      ]
     },
     "execution_count": 8,
     "metadata": {},
     "output_type": "execute_result"
    }
   ],
   "source": [
    "df.columns = df.columns.str.lower().str.replace(\" \", \"_\")\n",
    "df.columns"
   ]
  },
  {
   "cell_type": "markdown",
   "id": "b351e32a",
   "metadata": {},
   "source": [
    "## What is the percentage of male vs female kpop idols?"
   ]
  },
  {
   "cell_type": "code",
   "execution_count": 12,
   "id": "b9117b1d",
   "metadata": {},
   "outputs": [
    {
     "data": {
      "text/plain": [
       "M    0.516031\n",
       "F    0.483969\n",
       "Name: gender, dtype: float64"
      ]
     },
     "execution_count": 12,
     "metadata": {},
     "output_type": "execute_result"
    }
   ],
   "source": [
    "df.gender.value_counts(normalize=True)"
   ]
  },
  {
   "cell_type": "markdown",
   "id": "b8483eb3",
   "metadata": {},
   "source": [
    "## Not all idols are born in South Korea: make a horizontal bar plot of the top five countries they're from, with the longest bar at the top."
   ]
  },
  {
   "cell_type": "code",
   "execution_count": 72,
   "id": "2bac0609",
   "metadata": {},
   "outputs": [
    {
     "data": {
      "text/plain": [
       "<AxesSubplot:>"
      ]
     },
     "execution_count": 72,
     "metadata": {},
     "output_type": "execute_result"
    },
    {
     "data": {
      "image/png": "[encoded data removed]",
      "text/plain": [
       "<Figure size 432x288 with 1 Axes>"
      ]
     },
     "metadata": {
      "needs_background": "light"
     },
     "output_type": "display_data"
    }
   ],
   "source": [
    "df.country.value_counts().head().sort_values().plot(kind='barh')\n"
   ]
  },
  {
   "cell_type": "markdown",
   "id": "67e7b51f",
   "metadata": {},
   "source": [
    "## For **only** the idols born in Japan, what are the top 2 cities they were born in?"
   ]
  },
  {
   "cell_type": "code",
   "execution_count": 18,
   "id": "b6cd2d26",
   "metadata": {},
   "outputs": [
    {
     "data": {
      "text/plain": [
       "Osaka    3\n",
       "Tokyo    2\n",
       "Name: birthplace, dtype: int64"
      ]
     },
     "execution_count": 18,
     "metadata": {},
     "output_type": "execute_result"
    }
   ],
   "source": [
    "df[df.country == 'Japan'].birthplace.value_counts().head(2)"
   ]
  },
  {
   "cell_type": "markdown",
   "id": "ce730b08",
   "metadata": {},
   "source": [
    "## What group has the most members in our dataset?"
   ]
  },
  {
   "cell_type": "code",
   "execution_count": 22,
   "id": "d9a1b0d5",
   "metadata": {},
   "outputs": [
    {
     "data": {
      "text/plain": [
       "NCT             18\n",
       "14U             14\n",
       "Cosmic Girls    13\n",
       "Seventeen       13\n",
       "The Boyz        12\n",
       "                ..\n",
       "Rockit Girl      2\n",
       "15&              2\n",
       "JBJ95            1\n",
       "Nature           1\n",
       "Good Day         1\n",
       "Name: group, Length: 208, dtype: int64"
      ]
     },
     "execution_count": 22,
     "metadata": {},
     "output_type": "execute_result"
    }
   ],
   "source": [
    "df.group.value_counts()\n",
    "#NCT"
   ]
  },
  {
   "cell_type": "markdown",
   "id": "6fc564ac",
   "metadata": {},
   "source": [
    "## Save a CSV file of just idols from Canada, calling it `canada.csv`."
   ]
  },
  {
   "cell_type": "code",
   "execution_count": 30,
   "id": "a13422ba",
   "metadata": {},
   "outputs": [],
   "source": [
    "df[df.country == 'Canada']\n",
    "canada_df = df[df.country == 'Canada']\n",
    "canada_df.to_csv('canada.csv', index=False)"
   ]
  },
  {
   "cell_type": "markdown",
   "id": "b7b25a17",
   "metadata": {},
   "source": [
    "## How many idols are members of `Super Junior-M`?\n",
    "\n",
    "Count both `Group` and `Other Group`."
   ]
  },
  {
   "cell_type": "code",
   "execution_count": 40,
   "id": "c6a0d618",
   "metadata": {},
   "outputs": [],
   "source": [
    "super_jr1 = df[df.group == 'Super Junior-M'].full_name.value_counts().sum()"
   ]
  },
  {
   "cell_type": "code",
   "execution_count": 41,
   "id": "119bad88",
   "metadata": {},
   "outputs": [],
   "source": [
    "super_jr2 = df[df.other_group == 'Super Junior-M'].full_name.value_counts().sum()"
   ]
  },
  {
   "cell_type": "code",
   "execution_count": 42,
   "id": "64f03df5",
   "metadata": {},
   "outputs": [
    {
     "data": {
      "text/plain": [
       "8"
      ]
     },
     "execution_count": 42,
     "metadata": {},
     "output_type": "execute_result"
    }
   ],
   "source": [
    "super_jr1 + super_jr2"
   ]
  },
  {
   "cell_type": "markdown",
   "id": "21b296a7",
   "metadata": {},
   "source": [
    "## Create a new column called `age` that is the age of the idol.\n",
    "\n",
    "There are a few ways you can do this, but when calculating the age **just use the year**, you don't need to worry if they've had a birthday or not in 2021. For example, A.M. was born in 1996, so we would say she is **2021 - 1996 = 25 years old**."
   ]
  },
  {
   "cell_type": "code",
   "execution_count": 46,
   "id": "280b7ecd",
   "metadata": {},
   "outputs": [
    {
     "data": {
      "text/plain": [
       "0      1996-12-31\n",
       "1      1992-08-28\n",
       "2      1999-10-25\n",
       "3      1999-09-27\n",
       "4      2001-02-21\n",
       "          ...    \n",
       "1305   1997-06-16\n",
       "1306   1994-06-09\n",
       "1307   2005-05-31\n",
       "1308   1996-07-04\n",
       "1309   1994-12-08\n",
       "Name: date_of_birth, Length: 1310, dtype: datetime64[ns]"
      ]
     },
     "execution_count": 46,
     "metadata": {},
     "output_type": "execute_result"
    }
   ],
   "source": [
    "df.date_of_birth\n",
    "\n",
    "pd.to_datetime(df.date_of_birth, errors=\"coerce\", format=\"%Y-%m-%d\")\n",
    "df.date_of_birth = pd.to_datetime(df.date_of_birth, errors=\"coerce\", format=\"%Y-%m-%d\")\n",
    "df.date_of_birth"
   ]
  },
  {
   "cell_type": "code",
   "execution_count": 56,
   "id": "68fe4509",
   "metadata": {},
   "outputs": [
    {
     "data": {
      "text/html": [
       "<div>\n",
       "<style scoped>\n",
       "    .dataframe tbody tr th:only-of-type {\n",
       "        vertical-align: middle;\n",
       "    }\n",
       "\n",
       "    .dataframe tbody tr th {\n",
       "        vertical-align: top;\n",
       "    }\n",
       "\n",
       "    .dataframe thead th {\n",
       "        text-align: right;\n",
       "    }\n",
       "</style>\n",
       "<table border=\"1\" class=\"dataframe\">\n",
       "  <thead>\n",
       "    <tr style=\"text-align: right;\">\n",
       "      <th></th>\n",
       "      <th>stage_name</th>\n",
       "      <th>full_name</th>\n",
       "      <th>korean_name</th>\n",
       "      <th>k._stage_name</th>\n",
       "      <th>date_of_birth</th>\n",
       "      <th>group</th>\n",
       "      <th>country</th>\n",
       "      <th>birthplace</th>\n",
       "      <th>other_group</th>\n",
       "      <th>gender</th>\n",
       "      <th>age</th>\n",
       "    </tr>\n",
       "  </thead>\n",
       "  <tbody>\n",
       "    <tr>\n",
       "      <th>0</th>\n",
       "      <td>A.M</td>\n",
       "      <td>Seong Hyunwoo</td>\n",
       "      <td>성현우</td>\n",
       "      <td>에이엠</td>\n",
       "      <td>1996-12-31</td>\n",
       "      <td>Limitless</td>\n",
       "      <td>South Korea</td>\n",
       "      <td>NaN</td>\n",
       "      <td>NaN</td>\n",
       "      <td>M</td>\n",
       "      <td>25</td>\n",
       "    </tr>\n",
       "    <tr>\n",
       "      <th>1</th>\n",
       "      <td>Ace</td>\n",
       "      <td>Jang Wooyoung</td>\n",
       "      <td>장우영</td>\n",
       "      <td>에이스</td>\n",
       "      <td>1992-08-28</td>\n",
       "      <td>VAV</td>\n",
       "      <td>South Korea</td>\n",
       "      <td>NaN</td>\n",
       "      <td>NaN</td>\n",
       "      <td>M</td>\n",
       "      <td>29</td>\n",
       "    </tr>\n",
       "    <tr>\n",
       "      <th>2</th>\n",
       "      <td>Aeji</td>\n",
       "      <td>Kwon Aeji</td>\n",
       "      <td>권애지</td>\n",
       "      <td>애지</td>\n",
       "      <td>1999-10-25</td>\n",
       "      <td>Hashtag</td>\n",
       "      <td>South Korea</td>\n",
       "      <td>Daegu</td>\n",
       "      <td>NaN</td>\n",
       "      <td>F</td>\n",
       "      <td>22</td>\n",
       "    </tr>\n",
       "    <tr>\n",
       "      <th>3</th>\n",
       "      <td>AhIn</td>\n",
       "      <td>Lee Ahin</td>\n",
       "      <td>이아인</td>\n",
       "      <td>아인</td>\n",
       "      <td>1999-09-27</td>\n",
       "      <td>MOMOLAND</td>\n",
       "      <td>South Korea</td>\n",
       "      <td>Wonju</td>\n",
       "      <td>NaN</td>\n",
       "      <td>F</td>\n",
       "      <td>22</td>\n",
       "    </tr>\n",
       "    <tr>\n",
       "      <th>4</th>\n",
       "      <td>Ahra</td>\n",
       "      <td>Go Ahra</td>\n",
       "      <td>고아라</td>\n",
       "      <td>아라</td>\n",
       "      <td>2001-02-21</td>\n",
       "      <td>Favorite</td>\n",
       "      <td>South Korea</td>\n",
       "      <td>Yeosu</td>\n",
       "      <td>NaN</td>\n",
       "      <td>F</td>\n",
       "      <td>20</td>\n",
       "    </tr>\n",
       "  </tbody>\n",
       "</table>\n",
       "</div>"
      ],
      "text/plain": [
       "  stage_name      full_name korean_name k._stage_name date_of_birth  \\\n",
       "0        A.M  Seong Hyunwoo         성현우           에이엠    1996-12-31   \n",
       "1        Ace  Jang Wooyoung         장우영           에이스    1992-08-28   \n",
       "2       Aeji      Kwon Aeji         권애지            애지    1999-10-25   \n",
       "3       AhIn       Lee Ahin         이아인            아인    1999-09-27   \n",
       "4       Ahra        Go Ahra         고아라            아라    2001-02-21   \n",
       "\n",
       "       group      country birthplace other_group gender  age  \n",
       "0  Limitless  South Korea        NaN         NaN      M   25  \n",
       "1        VAV  South Korea        NaN         NaN      M   29  \n",
       "2    Hashtag  South Korea      Daegu         NaN      F   22  \n",
       "3   MOMOLAND  South Korea      Wonju         NaN      F   22  \n",
       "4   Favorite  South Korea      Yeosu         NaN      F   20  "
      ]
     },
     "execution_count": 56,
     "metadata": {},
     "output_type": "execute_result"
    }
   ],
   "source": [
    "df['age'] = 2021 - df.date_of_birth.dt.year\n",
    "df.age\n",
    "df.head()"
   ]
  },
  {
   "cell_type": "markdown",
   "id": "3fdbbefb",
   "metadata": {},
   "source": [
    "## Who are the four oldest idols in our dataset?"
   ]
  },
  {
   "cell_type": "code",
   "execution_count": 71,
   "id": "d977ba2d",
   "metadata": {},
   "outputs": [
    {
     "data": {
      "text/plain": [
       "822    40\n",
       "480    40\n",
       "624    41\n",
       "844    44\n",
       "Name: age, dtype: int64"
      ]
     },
     "execution_count": 71,
     "metadata": {},
     "output_type": "execute_result"
    }
   ],
   "source": [
    "df.age.sort_values().tail(4)\n",
    "#i know there's a way to do this to get the whole df info for these four ppl, but I'm not sure what it is! "
   ]
  },
  {
   "cell_type": "code",
   "execution_count": null,
   "id": "c40516fb",
   "metadata": {},
   "outputs": [],
   "source": []
  },
  {
   "cell_type": "markdown",
   "id": "f0b9702d",
   "metadata": {},
   "source": [
    "## What is the median age of male vs female idols?"
   ]
  },
  {
   "cell_type": "code",
   "execution_count": 61,
   "id": "25f2916e",
   "metadata": {},
   "outputs": [
    {
     "data": {
      "text/plain": [
       "gender\n",
       "F    25.0\n",
       "M    26.0\n",
       "Name: age, dtype: float64"
      ]
     },
     "execution_count": 61,
     "metadata": {},
     "output_type": "execute_result"
    }
   ],
   "source": [
    "df.groupby(by='gender').age.median()"
   ]
  },
  {
   "cell_type": "code",
   "execution_count": null,
   "id": "83d8dd0b",
   "metadata": {},
   "outputs": [],
   "source": []
  }
 ],
 "metadata": {
  "kernelspec": {
   "display_name": "Python 3 (ipykernel)",
   "language": "python",
   "name": "python3"
  },
  "language_info": {
   "codemirror_mode": {
    "name": "ipython",
    "version": 3
   },
   "file_extension": ".py",
   "mimetype": "text/x-python",
   "name": "python",
   "nbconvert_exporter": "python",
   "pygments_lexer": "ipython3",
   "version": "3.10.0"
  }
 },
 "nbformat": 4,
 "nbformat_minor": 5
}
