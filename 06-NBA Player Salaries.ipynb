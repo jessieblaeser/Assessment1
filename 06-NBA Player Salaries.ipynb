{
 "cells": [
  {
   "cell_type": "markdown",
   "id": "88f7aad6",
   "metadata": {},
   "source": [
    "# NYC Street Trees\n",
    "\n",
    "* **Data:** `salaries_1985to2018.csv` and `players.csv`\n",
    "* **Description:** A database of NBA player salaries between 1985 and 2018\n",
    "* **Source:** https://data.world/datadavis/nba-salaries\n",
    "* **Columns of interest:**\n",
    "    * `league` they're all in the NBA\n",
    "    * `player_id` the player's ID, linkable to players.csv \n",
    "    * `salary` the amount in USD they made that season \n",
    "    * `season` the common name of the season \n",
    "    * `season_end` and `season-start` the same data as season, basically\n",
    "    * `team` the team the player played on\n"
   ]
  },
  {
   "cell_type": "markdown",
   "id": "479fc074",
   "metadata": {},
   "source": [
    "## Read in your data"
   ]
  },
  {
   "cell_type": "code",
   "execution_count": 5,
   "id": "8a277686",
   "metadata": {},
   "outputs": [
    {
     "data": {
      "text/html": [
       "<div>\n",
       "<style scoped>\n",
       "    .dataframe tbody tr th:only-of-type {\n",
       "        vertical-align: middle;\n",
       "    }\n",
       "\n",
       "    .dataframe tbody tr th {\n",
       "        vertical-align: top;\n",
       "    }\n",
       "\n",
       "    .dataframe thead th {\n",
       "        text-align: right;\n",
       "    }\n",
       "</style>\n",
       "<table border=\"1\" class=\"dataframe\">\n",
       "  <thead>\n",
       "    <tr style=\"text-align: right;\">\n",
       "      <th></th>\n",
       "      <th>league</th>\n",
       "      <th>player_id</th>\n",
       "      <th>salary</th>\n",
       "      <th>season</th>\n",
       "      <th>season_end</th>\n",
       "      <th>season_start</th>\n",
       "      <th>team</th>\n",
       "    </tr>\n",
       "  </thead>\n",
       "  <tbody>\n",
       "    <tr>\n",
       "      <th>0</th>\n",
       "      <td>NBA</td>\n",
       "      <td>abdelal01</td>\n",
       "      <td>395000</td>\n",
       "      <td>1990-91</td>\n",
       "      <td>1991</td>\n",
       "      <td>1990</td>\n",
       "      <td>Portland Trail Blazers</td>\n",
       "    </tr>\n",
       "    <tr>\n",
       "      <th>1</th>\n",
       "      <td>NBA</td>\n",
       "      <td>abdelal01</td>\n",
       "      <td>494000</td>\n",
       "      <td>1991-92</td>\n",
       "      <td>1992</td>\n",
       "      <td>1991</td>\n",
       "      <td>Portland Trail Blazers</td>\n",
       "    </tr>\n",
       "    <tr>\n",
       "      <th>2</th>\n",
       "      <td>NBA</td>\n",
       "      <td>abdelal01</td>\n",
       "      <td>500000</td>\n",
       "      <td>1992-93</td>\n",
       "      <td>1993</td>\n",
       "      <td>1992</td>\n",
       "      <td>Boston Celtics</td>\n",
       "    </tr>\n",
       "    <tr>\n",
       "      <th>3</th>\n",
       "      <td>NBA</td>\n",
       "      <td>abdelal01</td>\n",
       "      <td>805000</td>\n",
       "      <td>1993-94</td>\n",
       "      <td>1994</td>\n",
       "      <td>1993</td>\n",
       "      <td>Boston Celtics</td>\n",
       "    </tr>\n",
       "    <tr>\n",
       "      <th>4</th>\n",
       "      <td>NBA</td>\n",
       "      <td>abdelal01</td>\n",
       "      <td>650000</td>\n",
       "      <td>1994-95</td>\n",
       "      <td>1995</td>\n",
       "      <td>1994</td>\n",
       "      <td>Sacramento Kings</td>\n",
       "    </tr>\n",
       "  </tbody>\n",
       "</table>\n",
       "</div>"
      ],
      "text/plain": [
       "  league  player_id  salary   season  season_end  season_start  \\\n",
       "0    NBA  abdelal01  395000  1990-91        1991          1990   \n",
       "1    NBA  abdelal01  494000  1991-92        1992          1991   \n",
       "2    NBA  abdelal01  500000  1992-93        1993          1992   \n",
       "3    NBA  abdelal01  805000  1993-94        1994          1993   \n",
       "4    NBA  abdelal01  650000  1994-95        1995          1994   \n",
       "\n",
       "                     team  \n",
       "0  Portland Trail Blazers  \n",
       "1  Portland Trail Blazers  \n",
       "2          Boston Celtics  \n",
       "3          Boston Celtics  \n",
       "4        Sacramento Kings  "
      ]
     },
     "execution_count": 5,
     "metadata": {},
     "output_type": "execute_result"
    }
   ],
   "source": [
    "import pandas as pd\n",
    "import numpy as np\n",
    "\n",
    "df1 = pd.read_csv(\"salaries_1985to2018.csv\")\n",
    "df2 = pd.read_csv(\"players.csv\")\n",
    "df1.head()\n",
    "#df2.head()"
   ]
  },
  {
   "cell_type": "markdown",
   "id": "cdcc975d",
   "metadata": {},
   "source": [
    "## What team spent the most on salary in the 1994-95 season?"
   ]
  },
  {
   "cell_type": "code",
   "execution_count": 10,
   "id": "a3ef7c9e",
   "metadata": {},
   "outputs": [
    {
     "data": {
      "text/plain": [
       "team\n",
       "Portland Trail Blazers    1749000.0\n",
       "Indiana Pacers            1655000.0\n",
       "Atlanta Hawks             1598000.0\n",
       "Sacramento Kings          1545000.0\n",
       "Los Angeles Lakers        1430000.0\n",
       "Cleveland Cavaliers       1394000.0\n",
       "Miami Heat                1351000.0\n",
       "New York Knicks           1292000.0\n",
       "Dallas Mavericks          1282500.0\n",
       "Seattle SuperSonics       1260000.0\n",
       "Utah Jazz                 1250000.0\n",
       "New Jersey Nets           1100000.0\n",
       "Denver Nuggets            1059500.0\n",
       "Charlotte Hornets          985000.0\n",
       "San Antonio Spurs          975000.0\n",
       "Boston Celtics             972500.0\n",
       "Los Angeles Clippers       962500.0\n",
       "Detroit Pistons            956000.0\n",
       "Philadelphia 76ers         923750.0\n",
       "Chicago Bulls              922500.0\n",
       "Orlando Magic              900000.0\n",
       "Golden State Warriors      890000.0\n",
       "Phoenix Suns               847500.0\n",
       "Milwaukee Bucks            820000.0\n",
       "Washington Bullets         720000.0\n",
       "Minnesota Timberwolves     600000.0\n",
       "Houston Rockets            525000.0\n",
       "Name: salary, dtype: float64"
      ]
     },
     "execution_count": 10,
     "metadata": {},
     "output_type": "execute_result"
    }
   ],
   "source": [
    "#df1.groupby(by=\"team\").salary.median().sort_values(ascending=False)\n",
    "df1[df1.season == '1994-95'].groupby(by=\"team\").salary.median().sort_values(ascending=False)"
   ]
  },
  {
   "cell_type": "markdown",
   "id": "479d9acf",
   "metadata": {},
   "source": [
    "## What season saw the largest total spend on player salary? "
   ]
  },
  {
   "cell_type": "code",
   "execution_count": 17,
   "id": "176aeda4",
   "metadata": {},
   "outputs": [
    {
     "data": {
      "text/plain": [
       "season\n",
       "2017-18    3312065275\n",
       "2016-17    2937158573\n",
       "2015-16    2340666933\n",
       "2014-15    2182215910\n",
       "2008-09    2158013409\n",
       "2009-10    2112793843\n",
       "2012-13    2102825019\n",
       "2007-08    2062825028\n",
       "2010-11    2024390927\n",
       "2011-12    2007646999\n",
       "2013-14    1994913401\n",
       "2006-07    1938230929\n",
       "2005-06    1896632316\n",
       "2004-05    1771343507\n",
       "2003-04    1672118546\n",
       "2002-03    1668996507\n",
       "2001-02    1558602654\n",
       "2000-01    1501509015\n",
       "1999-00    1314320184\n",
       "1998-99    1061306989\n",
       "1997-98     941908249\n",
       "1996-97     799226200\n",
       "1995-96     672926000\n",
       "1994-95     568648835\n",
       "1993-94     500334365\n",
       "1992-93     428950180\n",
       "1991-92     369332000\n",
       "1990-91     293563000\n",
       "1988-89     169491523\n",
       "1987-88     139138907\n",
       "1985-86     109550605\n",
       "1989-90     106940000\n",
       "1984-85      83749000\n",
       "1986-87      21721333\n",
       "Name: salary, dtype: int64"
      ]
     },
     "execution_count": 17,
     "metadata": {},
     "output_type": "execute_result"
    }
   ],
   "source": [
    "df1.head()\n",
    "df1.groupby(by='season').salary.sum().sort_values(ascending=False)"
   ]
  },
  {
   "cell_type": "markdown",
   "id": "38a83645",
   "metadata": {},
   "source": [
    "## Graph the total spend on salary over time\n",
    "\n",
    "Your y axis can look bad, it's okay."
   ]
  },
  {
   "cell_type": "code",
   "execution_count": 19,
   "id": "c8229f11",
   "metadata": {},
   "outputs": [
    {
     "data": {
      "text/plain": [
       "<AxesSubplot:xlabel='season'>"
      ]
     },
     "execution_count": 19,
     "metadata": {},
     "output_type": "execute_result"
    },
    {
     "data": {
      "image/png": "[encoded data removed]",
      "text/plain": [
       "<Figure size 432x288 with 1 Axes>"
      ]
     },
     "metadata": {
      "needs_background": "light"
     },
     "output_type": "display_data"
    }
   ],
   "source": [
    "df1.groupby(by='season').salary.sum().sort_index().plot()"
   ]
  },
  {
   "cell_type": "markdown",
   "id": "e491db08",
   "metadata": {},
   "source": [
    "## What are the top three lowest salaries granted to a player in a single season?"
   ]
  },
  {
   "cell_type": "code",
   "execution_count": 21,
   "id": "fc502c46",
   "metadata": {},
   "outputs": [
    {
     "data": {
      "text/html": [
       "<div>\n",
       "<style scoped>\n",
       "    .dataframe tbody tr th:only-of-type {\n",
       "        vertical-align: middle;\n",
       "    }\n",
       "\n",
       "    .dataframe tbody tr th {\n",
       "        vertical-align: top;\n",
       "    }\n",
       "\n",
       "    .dataframe thead th {\n",
       "        text-align: right;\n",
       "    }\n",
       "</style>\n",
       "<table border=\"1\" class=\"dataframe\">\n",
       "  <thead>\n",
       "    <tr style=\"text-align: right;\">\n",
       "      <th></th>\n",
       "      <th>league</th>\n",
       "      <th>player_id</th>\n",
       "      <th>salary</th>\n",
       "      <th>season</th>\n",
       "      <th>season_end</th>\n",
       "      <th>season_start</th>\n",
       "      <th>team</th>\n",
       "    </tr>\n",
       "  </thead>\n",
       "  <tbody>\n",
       "    <tr>\n",
       "      <th>0</th>\n",
       "      <td>NBA</td>\n",
       "      <td>abdelal01</td>\n",
       "      <td>395000</td>\n",
       "      <td>1990-91</td>\n",
       "      <td>1991</td>\n",
       "      <td>1990</td>\n",
       "      <td>Portland Trail Blazers</td>\n",
       "    </tr>\n",
       "    <tr>\n",
       "      <th>1</th>\n",
       "      <td>NBA</td>\n",
       "      <td>abdelal01</td>\n",
       "      <td>494000</td>\n",
       "      <td>1991-92</td>\n",
       "      <td>1992</td>\n",
       "      <td>1991</td>\n",
       "      <td>Portland Trail Blazers</td>\n",
       "    </tr>\n",
       "    <tr>\n",
       "      <th>2</th>\n",
       "      <td>NBA</td>\n",
       "      <td>abdelal01</td>\n",
       "      <td>500000</td>\n",
       "      <td>1992-93</td>\n",
       "      <td>1993</td>\n",
       "      <td>1992</td>\n",
       "      <td>Boston Celtics</td>\n",
       "    </tr>\n",
       "    <tr>\n",
       "      <th>3</th>\n",
       "      <td>NBA</td>\n",
       "      <td>abdelal01</td>\n",
       "      <td>805000</td>\n",
       "      <td>1993-94</td>\n",
       "      <td>1994</td>\n",
       "      <td>1993</td>\n",
       "      <td>Boston Celtics</td>\n",
       "    </tr>\n",
       "    <tr>\n",
       "      <th>4</th>\n",
       "      <td>NBA</td>\n",
       "      <td>abdelal01</td>\n",
       "      <td>650000</td>\n",
       "      <td>1994-95</td>\n",
       "      <td>1995</td>\n",
       "      <td>1994</td>\n",
       "      <td>Sacramento Kings</td>\n",
       "    </tr>\n",
       "  </tbody>\n",
       "</table>\n",
       "</div>"
      ],
      "text/plain": [
       "  league  player_id  salary   season  season_end  season_start  \\\n",
       "0    NBA  abdelal01  395000  1990-91        1991          1990   \n",
       "1    NBA  abdelal01  494000  1991-92        1992          1991   \n",
       "2    NBA  abdelal01  500000  1992-93        1993          1992   \n",
       "3    NBA  abdelal01  805000  1993-94        1994          1993   \n",
       "4    NBA  abdelal01  650000  1994-95        1995          1994   \n",
       "\n",
       "                     team  \n",
       "0  Portland Trail Blazers  \n",
       "1  Portland Trail Blazers  \n",
       "2          Boston Celtics  \n",
       "3          Boston Celtics  \n",
       "4        Sacramento Kings  "
      ]
     },
     "execution_count": 21,
     "metadata": {},
     "output_type": "execute_result"
    }
   ],
   "source": [
    "df1.head()"
   ]
  },
  {
   "cell_type": "code",
   "execution_count": null,
   "id": "91f4ebed",
   "metadata": {},
   "outputs": [],
   "source": [
    "#merged.groupby(by='neighborhood').Primary_Breed.value_counts().groupby(level=0, group_keys=False).nlargest(1)\n",
    "#Running out of time here, but I'm imagining I'll use groupby(level=0) to answer this question "
   ]
  },
  {
   "cell_type": "markdown",
   "id": "71abc52c",
   "metadata": {},
   "source": [
    "## What are the names of those players?\n",
    "\n",
    "Read in players.csv, join it with your salary dataframe, and run the same code again."
   ]
  },
  {
   "cell_type": "code",
   "execution_count": null,
   "id": "3e501c38",
   "metadata": {},
   "outputs": [],
   "source": []
  },
  {
   "cell_type": "code",
   "execution_count": null,
   "id": "d1c6d042",
   "metadata": {},
   "outputs": [],
   "source": []
  },
  {
   "cell_type": "code",
   "execution_count": null,
   "id": "88d6608f",
   "metadata": {},
   "outputs": [],
   "source": []
  },
  {
   "cell_type": "markdown",
   "id": "b99eb81e",
   "metadata": {},
   "source": [
    "## What is the median weight of an NBA player?\n",
    "\n",
    "Use `players.csv`, even if you did not successfully merge."
   ]
  },
  {
   "cell_type": "code",
   "execution_count": 27,
   "id": "d84636db",
   "metadata": {},
   "outputs": [
    {
     "data": {
      "text/plain": [
       "210.0"
      ]
     },
     "execution_count": 27,
     "metadata": {},
     "output_type": "execute_result"
    }
   ],
   "source": [
    "df2['weight'] = df2.weight.str.replace('lb',\"\")\n",
    "df2.weight.median()\n"
   ]
  },
  {
   "cell_type": "markdown",
   "id": "58c93ca9",
   "metadata": {},
   "source": [
    "## What is the median weight of players in the \"Small Forward\" position?\n",
    "\n",
    "Note that it isn't just looking for \"Small Forward\" by itself in that column, as (for example) Michael Jordan is listed as **Small Forward and Shooting Guard**."
   ]
  },
  {
   "cell_type": "code",
   "execution_count": null,
   "id": "6ba1a55f",
   "metadata": {},
   "outputs": [],
   "source": [
    "#ran out of time!"
   ]
  },
  {
   "cell_type": "code",
   "execution_count": null,
   "id": "5693e5d6",
   "metadata": {},
   "outputs": [],
   "source": []
  }
 ],
 "metadata": {
  "kernelspec": {
   "display_name": "Python 3 (ipykernel)",
   "language": "python",
   "name": "python3"
  },
  "language_info": {
   "codemirror_mode": {
    "name": "ipython",
    "version": 3
   },
   "file_extension": ".py",
   "mimetype": "text/x-python",
   "name": "python",
   "nbconvert_exporter": "python",
   "pygments_lexer": "ipython3",
   "version": "3.10.0"
  }
 },
 "nbformat": 4,
 "nbformat_minor": 5
}
